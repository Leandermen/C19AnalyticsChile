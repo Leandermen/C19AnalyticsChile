{
 "cells": [
  {
   "cell_type": "markdown",
   "metadata": {},
   "source": [
    "# Fundamentos para crear un mapa"
   ]
  },
  {
   "cell_type": "code",
   "execution_count": 1,
   "metadata": {},
   "outputs": [],
   "source": [
    "from arcgis.gis import GIS\n",
    "from IPython.display import display\n",
    "\n",
    "gis = GIS()\n",
    "Layer1 = gis.content.get('af921e75ed2940a5b71febdd5aa4744a').layers[0]"
   ]
  },
  {
   "cell_type": "code",
   "execution_count": 2,
   "metadata": {},
   "outputs": [
    {
     "output_type": "stream",
     "name": "stdout",
     "text": "OBJECTID\nCUT_REG\nCUT_PROV\nCUT_COM\nREGION\nPROVINCIA\nCOMUNA\nC_CONF\nTASA_100K\nR_POB\nShape__Area\nShape__Length\nGlobalID\nCUTREG\nCUTCOM\nCUTPROV\nC_ACT\nC_FALL\nTASA_LETAL\nTASA_UPCONF\nTASA_VACT\nV_ACT14D\nR_SUPT\nR_SUPURB\nR_DENT\nR_DENURB\nTASA_VTACT\nTASA_ACTIVOS\nTASA_DACT\nTASA_VDACT\n"
    }
   ],
   "source": [
    "for field in Layer1.properties['fields']:\n",
    "    print(field['name'])"
   ]
  },
  {
   "cell_type": "code",
   "execution_count": 3,
   "metadata": {},
   "outputs": [],
   "source": [
    "myrenderer={\"renderer\":\"autocast\",\"type\": \"classBreaks\",\"field\":\"C_CONF\",\"transparency\":20,\"minValue\":0}\n",
    "myrenderer[\"visualVariables\"] = [{   \"type\": \"colorInfo\",\n",
    "                                        \"field\": \"C_CONF\",\n",
    "                                        \"stops\": [  {\n",
    "                                                        \"value\": 10,\n",
    "                                                        \"color\": [237,248,251,204],\n",
    "                                                        \"label\": \"< 10\"\n",
    "                                                    },\n",
    "                                                    {\n",
    "                                                        \"value\": 25,\n",
    "                                                        \"color\": [178,226,226,204],\n",
    "                                                        \"label\": \"25\"\n",
    "                                                    },\n",
    "                                                    {\n",
    "                                                        \"value\": 50,\n",
    "                                                        \"color\": [102,194,164,204],\n",
    "                                                        \"label\": \"50\"\n",
    "                                                    },\n",
    "                                                    {\n",
    "                                                        \"value\": 75,\n",
    "                                                        \"color\": [44,162,95,204],\n",
    "                                                        \"label\": \"75\"\n",
    "                                                    },\n",
    "                                                    {\n",
    "                                                        \"value\": 100,\n",
    "                                                        \"color\": [0,109,44,204],\n",
    "                                                        \"label\": \"> 100\"\n",
    "                                                    }]\n",
    "                                    }]\n",
    "\n",
    "myrenderer[\"classBreakInfos\"] = [{   \"symbol\": {\n",
    "                                            \"color\": [170,170,170,204],\n",
    "                                            \"outline\": {\n",
    "                                                \"color\": [153,153,153,255],\n",
    "                                                \"width\": 0.375,\n",
    "                                                \"type\": \"esriSLS\",\n",
    "                                                \"style\": \"esriSLSSolid\"\n",
    "                                            },\n",
    "                                            \"type\": \"esriSFS\",\n",
    "                                            \"style\": \"esriSFSSolid\"\n",
    "                                        },\n",
    "                                        \"classMaxValue\": 9007199254740991\n",
    "                                    }]\n",
    "DataRend={ \"type\": \"FeatureLayer\",\n",
    "                 \"renderer\": myrenderer,\n",
    "                 \"field_name\":\"C_CONF\",\n",
    "                 \"minValue\":0}"
   ]
  },
  {
   "cell_type": "code",
   "execution_count": 4,
   "metadata": {},
   "outputs": [
    {
     "output_type": "display_data",
     "data": {
      "text/plain": "MapView(layout=Layout(height='400px', width='100%'))",
      "application/vnd.jupyter.widget-view+json": {
       "version_major": 2,
       "version_minor": 0,
       "model_id": "ba2144d6c4d84bc4b511bbd310ad466e"
      }
     },
     "metadata": {}
    },
    {
     "output_type": "display_data",
     "data": {
      "text/plain": "<IPython.core.display.HTML object>",
      "text/html": "<div class=\"map-static-img-preview-8e9f46c5-9069-4ecf-851c-6862d222d8ca\"><img src=\"\"></img></div>"
     },
     "metadata": {}
    }
   ],
   "source": [
    "mymap= gis.map('Santiago')\n",
    "mymap.basemap = 'dark-gray-vector'\n",
    "mymap.add_layer(Layer1,DataRend)\n",
    "mymap"
   ]
  }
 ],
 "metadata": {
  "language_info": {
   "codemirror_mode": {
    "name": "ipython",
    "version": 3
   },
   "file_extension": ".py",
   "mimetype": "text/x-python",
   "name": "python",
   "nbconvert_exporter": "python",
   "pygments_lexer": "ipython3",
   "version": "3.7.6-final"
  },
  "orig_nbformat": 2,
  "kernelspec": {
   "name": "python36064bitrootconda901191f5f68e40d0a09fc0adeb2a2faa",
   "display_name": "Python 3.6.0 64-bit ('root': conda)"
  }
 },
 "nbformat": 4,
 "nbformat_minor": 2
}